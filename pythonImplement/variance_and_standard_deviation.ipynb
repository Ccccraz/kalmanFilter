{
 "cells": [
  {
   "cell_type": "markdown",
   "metadata": {},
   "source": [
    "## Variance and standard deviation"
   ]
  },
  {
   "cell_type": "code",
   "execution_count": 1,
   "metadata": {},
   "outputs": [],
   "source": [
    "import numpy as np"
   ]
  },
  {
   "cell_type": "code",
   "execution_count": 2,
   "metadata": {},
   "outputs": [],
   "source": [
    "# perpare data set\n",
    "team_a = np.array([1.89, 2.10, 1.75, 1.98, 1.85])\n",
    "team_b = np.array([1.94, 1.90, 1.97, 1.89, 1.87])"
   ]
  },
  {
   "cell_type": "code",
   "execution_count": 3,
   "metadata": {},
   "outputs": [],
   "source": [
    "from numpy import ndarray\n",
    "\n",
    "def calc_variance(data: ndarray) -> float:\n",
    "    distance = np.zeros(data.size)\n",
    "    data_mean = data.mean()\n",
    "\n",
    "    for index, value in enumerate(data):\n",
    "        distance[index] = (value - data_mean) ** 2\n",
    "    \n",
    "    return distance.sum() / distance.size"
   ]
  },
  {
   "cell_type": "code",
   "execution_count": 4,
   "metadata": {},
   "outputs": [
    {
     "name": "stdout",
     "output_type": "stream",
     "text": [
      "0.1187602627144282\n",
      "0.03611094017053555\n"
     ]
    }
   ],
   "source": [
    "print(calc_variance(team_a) ** 0.5)\n",
    "print(calc_variance(team_b) ** 0.5)"
   ]
  },
  {
   "cell_type": "markdown",
   "metadata": {},
   "source": [
    "$$f(x;\\mu,\\sigma^2) = \\frac{1}{\\sqrt{x\\pi\\sigma^2}}e^{\\frac{-(x-\\mu)^2}{2\\sigma^2}}$$"
   ]
  }
 ],
 "metadata": {
  "kernelspec": {
   "display_name": "Python 3",
   "language": "python",
   "name": "python3"
  },
  "language_info": {
   "codemirror_mode": {
    "name": "ipython",
    "version": 3
   },
   "file_extension": ".py",
   "mimetype": "text/x-python",
   "name": "python",
   "nbconvert_exporter": "python",
   "pygments_lexer": "ipython3",
   "version": "3.12.2"
  }
 },
 "nbformat": 4,
 "nbformat_minor": 2
}
