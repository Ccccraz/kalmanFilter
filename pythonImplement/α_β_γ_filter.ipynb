{
 "cells": [
  {
   "cell_type": "markdown",
   "metadata": {},
   "source": [
    "To estimate the wight of gold:\n",
    "At the time $n$, the estimate $\\hat{x}_{n,n}$ would be the average of all previous measurements:\n",
    "\n",
    "$$\n",
    "\\begin{split}\n",
    "\\hat{x}_{n,n} &= \\frac{1}{n}(z_1 + z_2 + ... + z_{n-1} + z_n) \\\\\n",
    "&= \\frac{1}{n} \\sum_{i=1}^{n}(z_i)\n",
    "\\end{split}\n",
    "$$\n",
    "\n",
    "the dynamic mode in this example is static since the weight of gold doesn't change over time, therefore $\\hat{x}_{n+1,n} = \\hat{x}_{n,n}$"
   ]
  },
  {
   "cell_type": "markdown",
   "metadata": {},
   "source": [
    "$$\n",
    "\\begin{split}\n",
    "\\hat{x}_{n,n} &= \\frac{1}{n} \\sum_{i=1}^{n}(z_i) \\\\\n",
    "&=\\frac{1}{n} (\\sum_{i=1}^{n-1}(z_{i-1}) + z_n) \\\\\n",
    "&=\\frac{1}{n} \\sum_{i=1}^{n-1}(z_{i-1}) + \\frac{1}{n} z_n \\\\\n",
    "&=\\frac{1}{n} \\frac{n-1}{n-1} \\sum_{i=1}^{n-1}(z_i) + \\frac{1}{n}z_n \\\\\n",
    "&=\\frac{n-1}{n} \\frac{1}{n-1} \\sum_{i=1}^{n-1}(z_i) + \\frac{1}{n}z_n \\\\\n",
    "&=\\frac{n-1}{n} \\hat{x}_{n-1, n-1} + \\frac{1}{n}z_n \\\\\n",
    "&=\\hat{x}_{n-1, n-1} - \\frac{1}{n} \\hat{x}_{n-1, n-1} + \\frac{1}{n}z_n \\\\\n",
    "&=\\hat{x}_{n-1, n-1} + \\frac{1}{n} (z_n - \\hat{x}_{n-1, n-1})\n",
    "\\end{split}\n",
    "$$\n",
    "\n",
    "Since the dynamic model is this example is static, the predicted state of $x$ equals the estimated state of $x:\\hat{x}_{n,n-1} = \\hat{x}_{n-1, n-1}$\n",
    "\n",
    "so, the estimate of the current state can be written as follows:\n",
    "\n",
    "$$\n",
    "\\hat{x}_{n,n} = \\hat{x}_{n, n-1} + \\frac{1}{n}(z_i - \\hat{x}_{n, n-1})\n",
    "$$"
   ]
  }
 ],
 "metadata": {
  "kernelspec": {
   "display_name": "Python 3 (ipykernel)",
   "language": "python",
   "name": "python3"
  },
  "language_info": {
   "codemirror_mode": {
    "name": "ipython",
    "version": 3
   },
   "file_extension": ".py",
   "mimetype": "text/x-python",
   "name": "python",
   "nbconvert_exporter": "python",
   "pygments_lexer": "ipython3",
   "version": "3.12.2"
  }
 },
 "nbformat": 4,
 "nbformat_minor": 4
}
